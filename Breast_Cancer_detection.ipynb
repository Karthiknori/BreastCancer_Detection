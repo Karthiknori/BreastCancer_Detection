{
  "nbformat": 4,
  "nbformat_minor": 0,
  "metadata": {
    "colab": {
      "name": "Breast_Cancer_detection.ipynb",
      "provenance": [],
      "include_colab_link": true
    },
    "kernelspec": {
      "name": "python3",
      "display_name": "Python 3"
    }
  },
  "cells": [
    {
      "cell_type": "markdown",
      "metadata": {
        "id": "view-in-github",
        "colab_type": "text"
      },
      "source": [
        "<a href=\"https://colab.research.google.com/github/Karthiknori/BreastCancer_Detection/blob/master/Breast_Cancer_detection.ipynb\" target=\"_parent\"><img src=\"https://colab.research.google.com/assets/colab-badge.svg\" alt=\"Open In Colab\"/></a>"
      ]
    },
    {
      "cell_type": "code",
      "metadata": {
        "id": "Famu3gQhAAYm",
        "colab_type": "code",
        "colab": {
          "base_uri": "https://localhost:8080/",
          "height": 530
        },
        "outputId": "6be319af-0bf0-473b-a89c-26115d074292"
      },
      "source": [
        "pip install tensorflow-gpu==2.0.0-rc0"
      ],
      "execution_count": 1,
      "outputs": [
        {
          "output_type": "stream",
          "text": [
            "Collecting tensorflow-gpu==2.0.0-rc0\n",
            "\u001b[?25l  Downloading https://files.pythonhosted.org/packages/6a/12/8c64cc62149cc21c70c55018502831bbf4d42bd62bed196df7de6830d21b/tensorflow_gpu-2.0.0rc0-cp36-cp36m-manylinux2010_x86_64.whl (380.5MB)\n",
            "\u001b[K     |████████████████████████████████| 380.5MB 68kB/s \n",
            "\u001b[?25hRequirement already satisfied: protobuf>=3.6.1 in /usr/local/lib/python3.6/dist-packages (from tensorflow-gpu==2.0.0-rc0) (3.7.1)\n",
            "Collecting tb-nightly<1.15.0a20190807,>=1.15.0a20190806 (from tensorflow-gpu==2.0.0-rc0)\n",
            "\u001b[?25l  Downloading https://files.pythonhosted.org/packages/bc/88/24b5fb7280e74c7cf65bde47c171547fd02afb3840cff41bcbe9270650f5/tb_nightly-1.15.0a20190806-py3-none-any.whl (4.3MB)\n",
            "\u001b[K     |████████████████████████████████| 4.3MB 28.5MB/s \n",
            "\u001b[?25hRequirement already satisfied: termcolor>=1.1.0 in /usr/local/lib/python3.6/dist-packages (from tensorflow-gpu==2.0.0-rc0) (1.1.0)\n",
            "Requirement already satisfied: wrapt>=1.11.1 in /usr/local/lib/python3.6/dist-packages (from tensorflow-gpu==2.0.0-rc0) (1.11.2)\n",
            "Requirement already satisfied: keras-preprocessing>=1.0.5 in /usr/local/lib/python3.6/dist-packages (from tensorflow-gpu==2.0.0-rc0) (1.1.0)\n",
            "Requirement already satisfied: opt-einsum>=2.3.2 in /usr/local/lib/python3.6/dist-packages (from tensorflow-gpu==2.0.0-rc0) (3.1.0)\n",
            "Requirement already satisfied: keras-applications>=1.0.8 in /usr/local/lib/python3.6/dist-packages (from tensorflow-gpu==2.0.0-rc0) (1.0.8)\n",
            "Requirement already satisfied: six>=1.10.0 in /usr/local/lib/python3.6/dist-packages (from tensorflow-gpu==2.0.0-rc0) (1.12.0)\n",
            "Requirement already satisfied: grpcio>=1.8.6 in /usr/local/lib/python3.6/dist-packages (from tensorflow-gpu==2.0.0-rc0) (1.15.0)\n",
            "Requirement already satisfied: astor>=0.6.0 in /usr/local/lib/python3.6/dist-packages (from tensorflow-gpu==2.0.0-rc0) (0.8.0)\n",
            "Requirement already satisfied: gast>=0.2.0 in /usr/local/lib/python3.6/dist-packages (from tensorflow-gpu==2.0.0-rc0) (0.2.2)\n",
            "Requirement already satisfied: google-pasta>=0.1.6 in /usr/local/lib/python3.6/dist-packages (from tensorflow-gpu==2.0.0-rc0) (0.1.7)\n",
            "Requirement already satisfied: numpy<2.0,>=1.16.0 in /usr/local/lib/python3.6/dist-packages (from tensorflow-gpu==2.0.0-rc0) (1.16.5)\n",
            "Requirement already satisfied: wheel>=0.26 in /usr/local/lib/python3.6/dist-packages (from tensorflow-gpu==2.0.0-rc0) (0.33.6)\n",
            "Requirement already satisfied: absl-py>=0.7.0 in /usr/local/lib/python3.6/dist-packages (from tensorflow-gpu==2.0.0-rc0) (0.8.0)\n",
            "Collecting tf-estimator-nightly<1.14.0.dev2019080602,>=1.14.0.dev2019080601 (from tensorflow-gpu==2.0.0-rc0)\n",
            "\u001b[?25l  Downloading https://files.pythonhosted.org/packages/21/28/f2a27a62943d5f041e4a6fd404b2d21cb7c59b2242a4e73b03d9ba166552/tf_estimator_nightly-1.14.0.dev2019080601-py2.py3-none-any.whl (501kB)\n",
            "\u001b[K     |████████████████████████████████| 501kB 39.0MB/s \n",
            "\u001b[?25hRequirement already satisfied: setuptools in /usr/local/lib/python3.6/dist-packages (from protobuf>=3.6.1->tensorflow-gpu==2.0.0-rc0) (41.2.0)\n",
            "Requirement already satisfied: markdown>=2.6.8 in /usr/local/lib/python3.6/dist-packages (from tb-nightly<1.15.0a20190807,>=1.15.0a20190806->tensorflow-gpu==2.0.0-rc0) (3.1.1)\n",
            "Requirement already satisfied: werkzeug>=0.11.15 in /usr/local/lib/python3.6/dist-packages (from tb-nightly<1.15.0a20190807,>=1.15.0a20190806->tensorflow-gpu==2.0.0-rc0) (0.16.0)\n",
            "Requirement already satisfied: h5py in /usr/local/lib/python3.6/dist-packages (from keras-applications>=1.0.8->tensorflow-gpu==2.0.0-rc0) (2.8.0)\n",
            "Installing collected packages: tb-nightly, tf-estimator-nightly, tensorflow-gpu\n",
            "Successfully installed tb-nightly-1.15.0a20190806 tensorflow-gpu-2.0.0rc0 tf-estimator-nightly-1.14.0.dev2019080601\n"
          ],
          "name": "stdout"
        }
      ]
    },
    {
      "cell_type": "code",
      "metadata": {
        "id": "p9wxtsszBwF6",
        "colab_type": "code",
        "colab": {
          "base_uri": "https://localhost:8080/",
          "height": 34
        },
        "outputId": "09e6bd03-1081-4dec-971e-440cc10f007c"
      },
      "source": [
        "import tensorflow as tf\n",
        "from tensorflow import keras\n",
        "from tensorflow.keras import Sequential\n",
        "from tensorflow.keras.layers import Flatten, Dense, Dropout, BatchNormalization\n",
        "from tensorflow.keras.layers import Conv1D, MaxPool1D\n",
        "\n",
        "from tensorflow.keras.optimizers import Adam\n",
        "\n",
        "\n",
        "print(tf.__version__)"
      ],
      "execution_count": 2,
      "outputs": [
        {
          "output_type": "stream",
          "text": [
            "2.0.0-rc0\n"
          ],
          "name": "stdout"
        }
      ]
    },
    {
      "cell_type": "code",
      "metadata": {
        "id": "7cJd09WeBygy",
        "colab_type": "code",
        "colab": {}
      },
      "source": [
        "import pandas as pd\n",
        "import numpy as np\n",
        "import  seaborn as sns\n",
        "import matplotlib.pyplot as plt"
      ],
      "execution_count": 0,
      "outputs": []
    },
    {
      "cell_type": "code",
      "metadata": {
        "id": "YzYQoy9LB3Rp",
        "colab_type": "code",
        "colab": {}
      },
      "source": [
        "from sklearn import datasets, metrics\n",
        "from sklearn.model_selection import train_test_split\n",
        "from sklearn.preprocessing import StandardScaler"
      ],
      "execution_count": 0,
      "outputs": []
    },
    {
      "cell_type": "code",
      "metadata": {
        "id": "NYWA9RIrCRYr",
        "colab_type": "code",
        "colab": {}
      },
      "source": [
        "cancer = datasets.load_breast_cancer()"
      ],
      "execution_count": 0,
      "outputs": []
    },
    {
      "cell_type": "code",
      "metadata": {
        "id": "HRHWzK5LCUkq",
        "colab_type": "code",
        "colab": {
          "base_uri": "https://localhost:8080/",
          "height": 1000
        },
        "outputId": "38805651-9cc8-4dff-e04e-cb45bbc37aed"
      },
      "source": [
        "print(cancer.DESCR)"
      ],
      "execution_count": 7,
      "outputs": [
        {
          "output_type": "stream",
          "text": [
            ".. _breast_cancer_dataset:\n",
            "\n",
            "Breast cancer wisconsin (diagnostic) dataset\n",
            "--------------------------------------------\n",
            "\n",
            "**Data Set Characteristics:**\n",
            "\n",
            "    :Number of Instances: 569\n",
            "\n",
            "    :Number of Attributes: 30 numeric, predictive attributes and the class\n",
            "\n",
            "    :Attribute Information:\n",
            "        - radius (mean of distances from center to points on the perimeter)\n",
            "        - texture (standard deviation of gray-scale values)\n",
            "        - perimeter\n",
            "        - area\n",
            "        - smoothness (local variation in radius lengths)\n",
            "        - compactness (perimeter^2 / area - 1.0)\n",
            "        - concavity (severity of concave portions of the contour)\n",
            "        - concave points (number of concave portions of the contour)\n",
            "        - symmetry \n",
            "        - fractal dimension (\"coastline approximation\" - 1)\n",
            "\n",
            "        The mean, standard error, and \"worst\" or largest (mean of the three\n",
            "        largest values) of these features were computed for each image,\n",
            "        resulting in 30 features.  For instance, field 3 is Mean Radius, field\n",
            "        13 is Radius SE, field 23 is Worst Radius.\n",
            "\n",
            "        - class:\n",
            "                - WDBC-Malignant\n",
            "                - WDBC-Benign\n",
            "\n",
            "    :Summary Statistics:\n",
            "\n",
            "    ===================================== ====== ======\n",
            "                                           Min    Max\n",
            "    ===================================== ====== ======\n",
            "    radius (mean):                        6.981  28.11\n",
            "    texture (mean):                       9.71   39.28\n",
            "    perimeter (mean):                     43.79  188.5\n",
            "    area (mean):                          143.5  2501.0\n",
            "    smoothness (mean):                    0.053  0.163\n",
            "    compactness (mean):                   0.019  0.345\n",
            "    concavity (mean):                     0.0    0.427\n",
            "    concave points (mean):                0.0    0.201\n",
            "    symmetry (mean):                      0.106  0.304\n",
            "    fractal dimension (mean):             0.05   0.097\n",
            "    radius (standard error):              0.112  2.873\n",
            "    texture (standard error):             0.36   4.885\n",
            "    perimeter (standard error):           0.757  21.98\n",
            "    area (standard error):                6.802  542.2\n",
            "    smoothness (standard error):          0.002  0.031\n",
            "    compactness (standard error):         0.002  0.135\n",
            "    concavity (standard error):           0.0    0.396\n",
            "    concave points (standard error):      0.0    0.053\n",
            "    symmetry (standard error):            0.008  0.079\n",
            "    fractal dimension (standard error):   0.001  0.03\n",
            "    radius (worst):                       7.93   36.04\n",
            "    texture (worst):                      12.02  49.54\n",
            "    perimeter (worst):                    50.41  251.2\n",
            "    area (worst):                         185.2  4254.0\n",
            "    smoothness (worst):                   0.071  0.223\n",
            "    compactness (worst):                  0.027  1.058\n",
            "    concavity (worst):                    0.0    1.252\n",
            "    concave points (worst):               0.0    0.291\n",
            "    symmetry (worst):                     0.156  0.664\n",
            "    fractal dimension (worst):            0.055  0.208\n",
            "    ===================================== ====== ======\n",
            "\n",
            "    :Missing Attribute Values: None\n",
            "\n",
            "    :Class Distribution: 212 - Malignant, 357 - Benign\n",
            "\n",
            "    :Creator:  Dr. William H. Wolberg, W. Nick Street, Olvi L. Mangasarian\n",
            "\n",
            "    :Donor: Nick Street\n",
            "\n",
            "    :Date: November, 1995\n",
            "\n",
            "This is a copy of UCI ML Breast Cancer Wisconsin (Diagnostic) datasets.\n",
            "https://goo.gl/U2Uwz2\n",
            "\n",
            "Features are computed from a digitized image of a fine needle\n",
            "aspirate (FNA) of a breast mass.  They describe\n",
            "characteristics of the cell nuclei present in the image.\n",
            "\n",
            "Separating plane described above was obtained using\n",
            "Multisurface Method-Tree (MSM-T) [K. P. Bennett, \"Decision Tree\n",
            "Construction Via Linear Programming.\" Proceedings of the 4th\n",
            "Midwest Artificial Intelligence and Cognitive Science Society,\n",
            "pp. 97-101, 1992], a classification method which uses linear\n",
            "programming to construct a decision tree.  Relevant features\n",
            "were selected using an exhaustive search in the space of 1-4\n",
            "features and 1-3 separating planes.\n",
            "\n",
            "The actual linear program used to obtain the separating plane\n",
            "in the 3-dimensional space is that described in:\n",
            "[K. P. Bennett and O. L. Mangasarian: \"Robust Linear\n",
            "Programming Discrimination of Two Linearly Inseparable Sets\",\n",
            "Optimization Methods and Software 1, 1992, 23-34].\n",
            "\n",
            "This database is also available through the UW CS ftp server:\n",
            "\n",
            "ftp ftp.cs.wisc.edu\n",
            "cd math-prog/cpo-dataset/machine-learn/WDBC/\n",
            "\n",
            ".. topic:: References\n",
            "\n",
            "   - W.N. Street, W.H. Wolberg and O.L. Mangasarian. Nuclear feature extraction \n",
            "     for breast tumor diagnosis. IS&T/SPIE 1993 International Symposium on \n",
            "     Electronic Imaging: Science and Technology, volume 1905, pages 861-870,\n",
            "     San Jose, CA, 1993.\n",
            "   - O.L. Mangasarian, W.N. Street and W.H. Wolberg. Breast cancer diagnosis and \n",
            "     prognosis via linear programming. Operations Research, 43(4), pages 570-577, \n",
            "     July-August 1995.\n",
            "   - W.H. Wolberg, W.N. Street, and O.L. Mangasarian. Machine learning techniques\n",
            "     to diagnose breast cancer from fine-needle aspirates. Cancer Letters 77 (1994) \n",
            "     163-171.\n"
          ],
          "name": "stdout"
        }
      ]
    },
    {
      "cell_type": "code",
      "metadata": {
        "id": "_47Wi2ikCYM6",
        "colab_type": "code",
        "colab": {
          "base_uri": "https://localhost:8080/",
          "height": 258
        },
        "outputId": "c25ac377-07fc-4184-d763-d23c4db67a13"
      },
      "source": [
        "X = pd.DataFrame(data = cancer.data, columns=cancer.feature_names)\n",
        "X.head()"
      ],
      "execution_count": 8,
      "outputs": [
        {
          "output_type": "execute_result",
          "data": {
            "text/html": [
              "<div>\n",
              "<style scoped>\n",
              "    .dataframe tbody tr th:only-of-type {\n",
              "        vertical-align: middle;\n",
              "    }\n",
              "\n",
              "    .dataframe tbody tr th {\n",
              "        vertical-align: top;\n",
              "    }\n",
              "\n",
              "    .dataframe thead th {\n",
              "        text-align: right;\n",
              "    }\n",
              "</style>\n",
              "<table border=\"1\" class=\"dataframe\">\n",
              "  <thead>\n",
              "    <tr style=\"text-align: right;\">\n",
              "      <th></th>\n",
              "      <th>mean radius</th>\n",
              "      <th>mean texture</th>\n",
              "      <th>mean perimeter</th>\n",
              "      <th>mean area</th>\n",
              "      <th>mean smoothness</th>\n",
              "      <th>mean compactness</th>\n",
              "      <th>mean concavity</th>\n",
              "      <th>mean concave points</th>\n",
              "      <th>mean symmetry</th>\n",
              "      <th>mean fractal dimension</th>\n",
              "      <th>radius error</th>\n",
              "      <th>texture error</th>\n",
              "      <th>perimeter error</th>\n",
              "      <th>area error</th>\n",
              "      <th>smoothness error</th>\n",
              "      <th>compactness error</th>\n",
              "      <th>concavity error</th>\n",
              "      <th>concave points error</th>\n",
              "      <th>symmetry error</th>\n",
              "      <th>fractal dimension error</th>\n",
              "      <th>worst radius</th>\n",
              "      <th>worst texture</th>\n",
              "      <th>worst perimeter</th>\n",
              "      <th>worst area</th>\n",
              "      <th>worst smoothness</th>\n",
              "      <th>worst compactness</th>\n",
              "      <th>worst concavity</th>\n",
              "      <th>worst concave points</th>\n",
              "      <th>worst symmetry</th>\n",
              "      <th>worst fractal dimension</th>\n",
              "    </tr>\n",
              "  </thead>\n",
              "  <tbody>\n",
              "    <tr>\n",
              "      <th>0</th>\n",
              "      <td>17.99</td>\n",
              "      <td>10.38</td>\n",
              "      <td>122.80</td>\n",
              "      <td>1001.0</td>\n",
              "      <td>0.11840</td>\n",
              "      <td>0.27760</td>\n",
              "      <td>0.3001</td>\n",
              "      <td>0.14710</td>\n",
              "      <td>0.2419</td>\n",
              "      <td>0.07871</td>\n",
              "      <td>1.0950</td>\n",
              "      <td>0.9053</td>\n",
              "      <td>8.589</td>\n",
              "      <td>153.40</td>\n",
              "      <td>0.006399</td>\n",
              "      <td>0.04904</td>\n",
              "      <td>0.05373</td>\n",
              "      <td>0.01587</td>\n",
              "      <td>0.03003</td>\n",
              "      <td>0.006193</td>\n",
              "      <td>25.38</td>\n",
              "      <td>17.33</td>\n",
              "      <td>184.60</td>\n",
              "      <td>2019.0</td>\n",
              "      <td>0.1622</td>\n",
              "      <td>0.6656</td>\n",
              "      <td>0.7119</td>\n",
              "      <td>0.2654</td>\n",
              "      <td>0.4601</td>\n",
              "      <td>0.11890</td>\n",
              "    </tr>\n",
              "    <tr>\n",
              "      <th>1</th>\n",
              "      <td>20.57</td>\n",
              "      <td>17.77</td>\n",
              "      <td>132.90</td>\n",
              "      <td>1326.0</td>\n",
              "      <td>0.08474</td>\n",
              "      <td>0.07864</td>\n",
              "      <td>0.0869</td>\n",
              "      <td>0.07017</td>\n",
              "      <td>0.1812</td>\n",
              "      <td>0.05667</td>\n",
              "      <td>0.5435</td>\n",
              "      <td>0.7339</td>\n",
              "      <td>3.398</td>\n",
              "      <td>74.08</td>\n",
              "      <td>0.005225</td>\n",
              "      <td>0.01308</td>\n",
              "      <td>0.01860</td>\n",
              "      <td>0.01340</td>\n",
              "      <td>0.01389</td>\n",
              "      <td>0.003532</td>\n",
              "      <td>24.99</td>\n",
              "      <td>23.41</td>\n",
              "      <td>158.80</td>\n",
              "      <td>1956.0</td>\n",
              "      <td>0.1238</td>\n",
              "      <td>0.1866</td>\n",
              "      <td>0.2416</td>\n",
              "      <td>0.1860</td>\n",
              "      <td>0.2750</td>\n",
              "      <td>0.08902</td>\n",
              "    </tr>\n",
              "    <tr>\n",
              "      <th>2</th>\n",
              "      <td>19.69</td>\n",
              "      <td>21.25</td>\n",
              "      <td>130.00</td>\n",
              "      <td>1203.0</td>\n",
              "      <td>0.10960</td>\n",
              "      <td>0.15990</td>\n",
              "      <td>0.1974</td>\n",
              "      <td>0.12790</td>\n",
              "      <td>0.2069</td>\n",
              "      <td>0.05999</td>\n",
              "      <td>0.7456</td>\n",
              "      <td>0.7869</td>\n",
              "      <td>4.585</td>\n",
              "      <td>94.03</td>\n",
              "      <td>0.006150</td>\n",
              "      <td>0.04006</td>\n",
              "      <td>0.03832</td>\n",
              "      <td>0.02058</td>\n",
              "      <td>0.02250</td>\n",
              "      <td>0.004571</td>\n",
              "      <td>23.57</td>\n",
              "      <td>25.53</td>\n",
              "      <td>152.50</td>\n",
              "      <td>1709.0</td>\n",
              "      <td>0.1444</td>\n",
              "      <td>0.4245</td>\n",
              "      <td>0.4504</td>\n",
              "      <td>0.2430</td>\n",
              "      <td>0.3613</td>\n",
              "      <td>0.08758</td>\n",
              "    </tr>\n",
              "    <tr>\n",
              "      <th>3</th>\n",
              "      <td>11.42</td>\n",
              "      <td>20.38</td>\n",
              "      <td>77.58</td>\n",
              "      <td>386.1</td>\n",
              "      <td>0.14250</td>\n",
              "      <td>0.28390</td>\n",
              "      <td>0.2414</td>\n",
              "      <td>0.10520</td>\n",
              "      <td>0.2597</td>\n",
              "      <td>0.09744</td>\n",
              "      <td>0.4956</td>\n",
              "      <td>1.1560</td>\n",
              "      <td>3.445</td>\n",
              "      <td>27.23</td>\n",
              "      <td>0.009110</td>\n",
              "      <td>0.07458</td>\n",
              "      <td>0.05661</td>\n",
              "      <td>0.01867</td>\n",
              "      <td>0.05963</td>\n",
              "      <td>0.009208</td>\n",
              "      <td>14.91</td>\n",
              "      <td>26.50</td>\n",
              "      <td>98.87</td>\n",
              "      <td>567.7</td>\n",
              "      <td>0.2098</td>\n",
              "      <td>0.8663</td>\n",
              "      <td>0.6869</td>\n",
              "      <td>0.2575</td>\n",
              "      <td>0.6638</td>\n",
              "      <td>0.17300</td>\n",
              "    </tr>\n",
              "    <tr>\n",
              "      <th>4</th>\n",
              "      <td>20.29</td>\n",
              "      <td>14.34</td>\n",
              "      <td>135.10</td>\n",
              "      <td>1297.0</td>\n",
              "      <td>0.10030</td>\n",
              "      <td>0.13280</td>\n",
              "      <td>0.1980</td>\n",
              "      <td>0.10430</td>\n",
              "      <td>0.1809</td>\n",
              "      <td>0.05883</td>\n",
              "      <td>0.7572</td>\n",
              "      <td>0.7813</td>\n",
              "      <td>5.438</td>\n",
              "      <td>94.44</td>\n",
              "      <td>0.011490</td>\n",
              "      <td>0.02461</td>\n",
              "      <td>0.05688</td>\n",
              "      <td>0.01885</td>\n",
              "      <td>0.01756</td>\n",
              "      <td>0.005115</td>\n",
              "      <td>22.54</td>\n",
              "      <td>16.67</td>\n",
              "      <td>152.20</td>\n",
              "      <td>1575.0</td>\n",
              "      <td>0.1374</td>\n",
              "      <td>0.2050</td>\n",
              "      <td>0.4000</td>\n",
              "      <td>0.1625</td>\n",
              "      <td>0.2364</td>\n",
              "      <td>0.07678</td>\n",
              "    </tr>\n",
              "  </tbody>\n",
              "</table>\n",
              "</div>"
            ],
            "text/plain": [
              "   mean radius  mean texture  ...  worst symmetry  worst fractal dimension\n",
              "0        17.99         10.38  ...          0.4601                  0.11890\n",
              "1        20.57         17.77  ...          0.2750                  0.08902\n",
              "2        19.69         21.25  ...          0.3613                  0.08758\n",
              "3        11.42         20.38  ...          0.6638                  0.17300\n",
              "4        20.29         14.34  ...          0.2364                  0.07678\n",
              "\n",
              "[5 rows x 30 columns]"
            ]
          },
          "metadata": {
            "tags": []
          },
          "execution_count": 8
        }
      ]
    },
    {
      "cell_type": "code",
      "metadata": {
        "id": "qPNRDWS3Cboe",
        "colab_type": "code",
        "colab": {}
      },
      "source": [
        "y = cancer.target"
      ],
      "execution_count": 0,
      "outputs": []
    },
    {
      "cell_type": "code",
      "metadata": {
        "id": "e6xh24uBCgmV",
        "colab_type": "code",
        "colab": {
          "base_uri": "https://localhost:8080/",
          "height": 459
        },
        "outputId": "69d20b31-13fe-4981-ec50-38cb133c898e"
      },
      "source": [
        "y"
      ],
      "execution_count": 10,
      "outputs": [
        {
          "output_type": "execute_result",
          "data": {
            "text/plain": [
              "array([0, 0, 0, 0, 0, 0, 0, 0, 0, 0, 0, 0, 0, 0, 0, 0, 0, 0, 0, 1, 1, 1,\n",
              "       0, 0, 0, 0, 0, 0, 0, 0, 0, 0, 0, 0, 0, 0, 0, 1, 0, 0, 0, 0, 0, 0,\n",
              "       0, 0, 1, 0, 1, 1, 1, 1, 1, 0, 0, 1, 0, 0, 1, 1, 1, 1, 0, 1, 0, 0,\n",
              "       1, 1, 1, 1, 0, 1, 0, 0, 1, 0, 1, 0, 0, 1, 1, 1, 0, 0, 1, 0, 0, 0,\n",
              "       1, 1, 1, 0, 1, 1, 0, 0, 1, 1, 1, 0, 0, 1, 1, 1, 1, 0, 1, 1, 0, 1,\n",
              "       1, 1, 1, 1, 1, 1, 1, 0, 0, 0, 1, 0, 0, 1, 1, 1, 0, 0, 1, 0, 1, 0,\n",
              "       0, 1, 0, 0, 1, 1, 0, 1, 1, 0, 1, 1, 1, 1, 0, 1, 1, 1, 1, 1, 1, 1,\n",
              "       1, 1, 0, 1, 1, 1, 1, 0, 0, 1, 0, 1, 1, 0, 0, 1, 1, 0, 0, 1, 1, 1,\n",
              "       1, 0, 1, 1, 0, 0, 0, 1, 0, 1, 0, 1, 1, 1, 0, 1, 1, 0, 0, 1, 0, 0,\n",
              "       0, 0, 1, 0, 0, 0, 1, 0, 1, 0, 1, 1, 0, 1, 0, 0, 0, 0, 1, 1, 0, 0,\n",
              "       1, 1, 1, 0, 1, 1, 1, 1, 1, 0, 0, 1, 1, 0, 1, 1, 0, 0, 1, 0, 1, 1,\n",
              "       1, 1, 0, 1, 1, 1, 1, 1, 0, 1, 0, 0, 0, 0, 0, 0, 0, 0, 0, 0, 0, 0,\n",
              "       0, 0, 1, 1, 1, 1, 1, 1, 0, 1, 0, 1, 1, 0, 1, 1, 0, 1, 0, 0, 1, 1,\n",
              "       1, 1, 1, 1, 1, 1, 1, 1, 1, 1, 1, 0, 1, 1, 0, 1, 0, 1, 1, 1, 1, 1,\n",
              "       1, 1, 1, 1, 1, 1, 1, 1, 1, 0, 1, 1, 1, 0, 1, 0, 1, 1, 1, 1, 0, 0,\n",
              "       0, 1, 1, 1, 1, 0, 1, 0, 1, 0, 1, 1, 1, 0, 1, 1, 1, 1, 1, 1, 1, 0,\n",
              "       0, 0, 1, 1, 1, 1, 1, 1, 1, 1, 1, 1, 1, 0, 0, 1, 0, 0, 0, 1, 0, 0,\n",
              "       1, 1, 1, 1, 1, 0, 1, 1, 1, 1, 1, 0, 1, 1, 1, 0, 1, 1, 0, 0, 1, 1,\n",
              "       1, 1, 1, 1, 0, 1, 1, 1, 1, 1, 1, 1, 0, 1, 1, 1, 1, 1, 0, 1, 1, 0,\n",
              "       1, 1, 1, 1, 1, 1, 1, 1, 1, 1, 1, 1, 0, 1, 0, 0, 1, 0, 1, 1, 1, 1,\n",
              "       1, 0, 1, 1, 0, 1, 0, 1, 1, 0, 1, 0, 1, 1, 1, 1, 1, 1, 1, 1, 0, 0,\n",
              "       1, 1, 1, 1, 1, 1, 0, 1, 1, 1, 1, 1, 1, 1, 1, 1, 1, 0, 1, 1, 1, 1,\n",
              "       1, 1, 1, 0, 1, 0, 1, 1, 0, 1, 1, 1, 1, 1, 0, 0, 1, 0, 1, 0, 1, 1,\n",
              "       1, 1, 1, 0, 1, 1, 0, 1, 0, 1, 0, 0, 1, 1, 1, 0, 1, 1, 1, 1, 1, 1,\n",
              "       1, 1, 1, 1, 1, 0, 1, 0, 0, 1, 1, 1, 1, 1, 1, 1, 1, 1, 1, 1, 1, 1,\n",
              "       1, 1, 1, 1, 1, 1, 1, 1, 1, 1, 1, 1, 0, 0, 0, 0, 0, 0, 1])"
            ]
          },
          "metadata": {
            "tags": []
          },
          "execution_count": 10
        }
      ]
    },
    {
      "cell_type": "code",
      "metadata": {
        "id": "Sk6q6JwFCio8",
        "colab_type": "code",
        "colab": {
          "base_uri": "https://localhost:8080/",
          "height": 34
        },
        "outputId": "ef18d076-1c56-4209-c231-4374cb46d23c"
      },
      "source": [
        "cancer.target_names"
      ],
      "execution_count": 11,
      "outputs": [
        {
          "output_type": "execute_result",
          "data": {
            "text/plain": [
              "array(['malignant', 'benign'], dtype='<U9')"
            ]
          },
          "metadata": {
            "tags": []
          },
          "execution_count": 11
        }
      ]
    },
    {
      "cell_type": "code",
      "metadata": {
        "id": "_Sbgpry5Cl_I",
        "colab_type": "code",
        "colab": {
          "base_uri": "https://localhost:8080/",
          "height": 34
        },
        "outputId": "576daf68-47a6-4452-b648-25d9b7ae9427"
      },
      "source": [
        "X.shape"
      ],
      "execution_count": 12,
      "outputs": [
        {
          "output_type": "execute_result",
          "data": {
            "text/plain": [
              "(569, 30)"
            ]
          },
          "metadata": {
            "tags": []
          },
          "execution_count": 12
        }
      ]
    },
    {
      "cell_type": "code",
      "metadata": {
        "id": "xnccKiWOCpYN",
        "colab_type": "code",
        "colab": {}
      },
      "source": [
        "X_train, X_test, y_train, y_test = train_test_split(X, y, test_size = 0.2, random_state = 0, stratify = y)"
      ],
      "execution_count": 0,
      "outputs": []
    },
    {
      "cell_type": "code",
      "metadata": {
        "id": "Ab3a2A_rCstz",
        "colab_type": "code",
        "colab": {
          "base_uri": "https://localhost:8080/",
          "height": 34
        },
        "outputId": "e28acdff-2281-45d4-bf2d-ddbdfcf9f094"
      },
      "source": [
        "X_train.shape"
      ],
      "execution_count": 14,
      "outputs": [
        {
          "output_type": "execute_result",
          "data": {
            "text/plain": [
              "(455, 30)"
            ]
          },
          "metadata": {
            "tags": []
          },
          "execution_count": 14
        }
      ]
    },
    {
      "cell_type": "code",
      "metadata": {
        "id": "6n3muyABCvJf",
        "colab_type": "code",
        "colab": {
          "base_uri": "https://localhost:8080/",
          "height": 34
        },
        "outputId": "11f26793-1d33-42d6-eb56-5c9c9ad23ade"
      },
      "source": [
        "X_test.shape"
      ],
      "execution_count": 15,
      "outputs": [
        {
          "output_type": "execute_result",
          "data": {
            "text/plain": [
              "(114, 30)"
            ]
          },
          "metadata": {
            "tags": []
          },
          "execution_count": 15
        }
      ]
    },
    {
      "cell_type": "code",
      "metadata": {
        "id": "_2_nMcfaC9pl",
        "colab_type": "code",
        "colab": {}
      },
      "source": [
        "scaler = StandardScaler()\n",
        "X_train = scaler.fit_transform(X_train)\n",
        "X_test = scaler.transform(X_test)"
      ],
      "execution_count": 0,
      "outputs": []
    },
    {
      "cell_type": "code",
      "metadata": {
        "id": "R88Qh_lkDARn",
        "colab_type": "code",
        "colab": {}
      },
      "source": [
        "X_train = X_train.reshape(455,30,1)\n",
        "X_test = X_test.reshape(114, 30, 1)"
      ],
      "execution_count": 0,
      "outputs": []
    },
    {
      "cell_type": "code",
      "metadata": {
        "id": "bDD9KZJGDDH9",
        "colab_type": "code",
        "colab": {}
      },
      "source": [
        "epochs = 50\n",
        "model = Sequential()\n",
        "model.add(Conv1D(filters=32, kernel_size=2, activation='relu', input_shape = (30,1)))\n",
        "model.add(BatchNormalization())\n",
        "model.add(Dropout(0.2))\n",
        "\n",
        "model.add(Conv1D(filters=64, kernel_size=2, activation='relu'))\n",
        "model.add(BatchNormalization())\n",
        "model.add(Dropout(0.5))\n",
        "\n",
        "model.add(Flatten())\n",
        "model.add(Dense(64, activation='relu'))\n",
        "model.add(Dropout(0.5))\n",
        "\n",
        "model.add(Dense(1, activation='sigmoid'))"
      ],
      "execution_count": 0,
      "outputs": []
    },
    {
      "cell_type": "code",
      "metadata": {
        "id": "8HsNnoSPDGYp",
        "colab_type": "code",
        "colab": {
          "base_uri": "https://localhost:8080/",
          "height": 493
        },
        "outputId": "5de41236-b5e0-42e5-eaf2-b136b3cd4246"
      },
      "source": [
        "model.summary()"
      ],
      "execution_count": 19,
      "outputs": [
        {
          "output_type": "stream",
          "text": [
            "Model: \"sequential\"\n",
            "_________________________________________________________________\n",
            "Layer (type)                 Output Shape              Param #   \n",
            "=================================================================\n",
            "conv1d (Conv1D)              (None, 29, 32)            96        \n",
            "_________________________________________________________________\n",
            "batch_normalization (BatchNo (None, 29, 32)            128       \n",
            "_________________________________________________________________\n",
            "dropout (Dropout)            (None, 29, 32)            0         \n",
            "_________________________________________________________________\n",
            "conv1d_1 (Conv1D)            (None, 28, 64)            4160      \n",
            "_________________________________________________________________\n",
            "batch_normalization_1 (Batch (None, 28, 64)            256       \n",
            "_________________________________________________________________\n",
            "dropout_1 (Dropout)          (None, 28, 64)            0         \n",
            "_________________________________________________________________\n",
            "flatten (Flatten)            (None, 1792)              0         \n",
            "_________________________________________________________________\n",
            "dense (Dense)                (None, 64)                114752    \n",
            "_________________________________________________________________\n",
            "dropout_2 (Dropout)          (None, 64)                0         \n",
            "_________________________________________________________________\n",
            "dense_1 (Dense)              (None, 1)                 65        \n",
            "=================================================================\n",
            "Total params: 119,457\n",
            "Trainable params: 119,265\n",
            "Non-trainable params: 192\n",
            "_________________________________________________________________\n"
          ],
          "name": "stdout"
        }
      ]
    },
    {
      "cell_type": "code",
      "metadata": {
        "id": "ft5FJPqvDI5l",
        "colab_type": "code",
        "colab": {}
      },
      "source": [
        "model.compile(optimizer=Adam(lr=0.00005), loss = 'binary_crossentropy', metrics=['accuracy'])"
      ],
      "execution_count": 0,
      "outputs": []
    },
    {
      "cell_type": "code",
      "metadata": {
        "id": "N2655pFnDLyW",
        "colab_type": "code",
        "colab": {
          "base_uri": "https://localhost:8080/",
          "height": 1000
        },
        "outputId": "d107e3b9-81f0-4b19-e0a7-0646f55261d5"
      },
      "source": [
        "history = model.fit(X_train, y_train, epochs=epochs, validation_data=(X_test, y_test), verbose=1)\n"
      ],
      "execution_count": 21,
      "outputs": [
        {
          "output_type": "stream",
          "text": [
            "Train on 455 samples, validate on 114 samples\n",
            "Epoch 1/50\n",
            "WARNING:tensorflow:From /usr/local/lib/python3.6/dist-packages/tensorflow_core/python/ops/nn_impl.py:183: where (from tensorflow.python.ops.array_ops) is deprecated and will be removed in a future version.\n",
            "Instructions for updating:\n",
            "Use tf.where in 2.0, which has the same broadcast rule as np.where\n",
            "455/455 [==============================] - 2s 3ms/sample - loss: 0.9089 - accuracy: 0.5978 - val_loss: 0.6448 - val_accuracy: 0.8158\n",
            "Epoch 2/50\n",
            "455/455 [==============================] - 0s 374us/sample - loss: 0.6397 - accuracy: 0.7077 - val_loss: 0.6010 - val_accuracy: 0.9211\n",
            "Epoch 3/50\n",
            "455/455 [==============================] - 0s 368us/sample - loss: 0.5140 - accuracy: 0.7780 - val_loss: 0.5581 - val_accuracy: 0.9386\n",
            "Epoch 4/50\n",
            "455/455 [==============================] - 0s 393us/sample - loss: 0.4098 - accuracy: 0.8374 - val_loss: 0.5182 - val_accuracy: 0.9386\n",
            "Epoch 5/50\n",
            "455/455 [==============================] - 0s 358us/sample - loss: 0.3336 - accuracy: 0.8440 - val_loss: 0.4808 - val_accuracy: 0.9386\n",
            "Epoch 6/50\n",
            "455/455 [==============================] - 0s 362us/sample - loss: 0.2467 - accuracy: 0.8967 - val_loss: 0.4447 - val_accuracy: 0.9386\n",
            "Epoch 7/50\n",
            "455/455 [==============================] - 0s 368us/sample - loss: 0.3017 - accuracy: 0.8813 - val_loss: 0.4112 - val_accuracy: 0.9386\n",
            "Epoch 8/50\n",
            "455/455 [==============================] - 0s 379us/sample - loss: 0.2555 - accuracy: 0.8967 - val_loss: 0.3809 - val_accuracy: 0.9386\n",
            "Epoch 9/50\n",
            "455/455 [==============================] - 0s 368us/sample - loss: 0.2204 - accuracy: 0.9011 - val_loss: 0.3513 - val_accuracy: 0.9386\n",
            "Epoch 10/50\n",
            "455/455 [==============================] - 0s 373us/sample - loss: 0.2422 - accuracy: 0.8989 - val_loss: 0.3219 - val_accuracy: 0.9561\n",
            "Epoch 11/50\n",
            "455/455 [==============================] - 0s 378us/sample - loss: 0.1885 - accuracy: 0.9253 - val_loss: 0.2949 - val_accuracy: 0.9561\n",
            "Epoch 12/50\n",
            "455/455 [==============================] - 0s 364us/sample - loss: 0.1950 - accuracy: 0.9253 - val_loss: 0.2702 - val_accuracy: 0.9561\n",
            "Epoch 13/50\n",
            "455/455 [==============================] - 0s 394us/sample - loss: 0.2130 - accuracy: 0.9231 - val_loss: 0.2482 - val_accuracy: 0.9561\n",
            "Epoch 14/50\n",
            "455/455 [==============================] - 0s 376us/sample - loss: 0.1917 - accuracy: 0.9231 - val_loss: 0.2277 - val_accuracy: 0.9561\n",
            "Epoch 15/50\n",
            "455/455 [==============================] - 0s 373us/sample - loss: 0.1831 - accuracy: 0.9275 - val_loss: 0.2102 - val_accuracy: 0.9561\n",
            "Epoch 16/50\n",
            "455/455 [==============================] - 0s 369us/sample - loss: 0.1527 - accuracy: 0.9516 - val_loss: 0.1944 - val_accuracy: 0.9649\n",
            "Epoch 17/50\n",
            "455/455 [==============================] - 0s 377us/sample - loss: 0.2191 - accuracy: 0.9165 - val_loss: 0.1805 - val_accuracy: 0.9561\n",
            "Epoch 18/50\n",
            "455/455 [==============================] - 0s 368us/sample - loss: 0.1373 - accuracy: 0.9429 - val_loss: 0.1691 - val_accuracy: 0.9561\n",
            "Epoch 19/50\n",
            "455/455 [==============================] - 0s 359us/sample - loss: 0.1446 - accuracy: 0.9560 - val_loss: 0.1594 - val_accuracy: 0.9561\n",
            "Epoch 20/50\n",
            "455/455 [==============================] - 0s 358us/sample - loss: 0.1969 - accuracy: 0.9209 - val_loss: 0.1505 - val_accuracy: 0.9561\n",
            "Epoch 21/50\n",
            "455/455 [==============================] - 0s 353us/sample - loss: 0.1661 - accuracy: 0.9341 - val_loss: 0.1423 - val_accuracy: 0.9474\n",
            "Epoch 22/50\n",
            "455/455 [==============================] - 0s 372us/sample - loss: 0.1419 - accuracy: 0.9495 - val_loss: 0.1359 - val_accuracy: 0.9474\n",
            "Epoch 23/50\n",
            "455/455 [==============================] - 0s 374us/sample - loss: 0.1303 - accuracy: 0.9560 - val_loss: 0.1309 - val_accuracy: 0.9474\n",
            "Epoch 24/50\n",
            "455/455 [==============================] - 0s 346us/sample - loss: 0.1175 - accuracy: 0.9582 - val_loss: 0.1275 - val_accuracy: 0.9474\n",
            "Epoch 25/50\n",
            "455/455 [==============================] - 0s 368us/sample - loss: 0.1654 - accuracy: 0.9495 - val_loss: 0.1239 - val_accuracy: 0.9474\n",
            "Epoch 26/50\n",
            "455/455 [==============================] - 0s 382us/sample - loss: 0.1282 - accuracy: 0.9451 - val_loss: 0.1212 - val_accuracy: 0.9474\n",
            "Epoch 27/50\n",
            "455/455 [==============================] - 0s 345us/sample - loss: 0.1511 - accuracy: 0.9538 - val_loss: 0.1184 - val_accuracy: 0.9474\n",
            "Epoch 28/50\n",
            "455/455 [==============================] - 0s 350us/sample - loss: 0.1788 - accuracy: 0.9165 - val_loss: 0.1164 - val_accuracy: 0.9561\n",
            "Epoch 29/50\n",
            "455/455 [==============================] - 0s 364us/sample - loss: 0.1283 - accuracy: 0.9604 - val_loss: 0.1146 - val_accuracy: 0.9561\n",
            "Epoch 30/50\n",
            "455/455 [==============================] - 0s 358us/sample - loss: 0.1220 - accuracy: 0.9516 - val_loss: 0.1135 - val_accuracy: 0.9561\n",
            "Epoch 31/50\n",
            "455/455 [==============================] - 0s 363us/sample - loss: 0.1339 - accuracy: 0.9582 - val_loss: 0.1126 - val_accuracy: 0.9561\n",
            "Epoch 32/50\n",
            "455/455 [==============================] - 0s 362us/sample - loss: 0.1313 - accuracy: 0.9538 - val_loss: 0.1119 - val_accuracy: 0.9561\n",
            "Epoch 33/50\n",
            "455/455 [==============================] - 0s 355us/sample - loss: 0.1459 - accuracy: 0.9473 - val_loss: 0.1110 - val_accuracy: 0.9561\n",
            "Epoch 34/50\n",
            "455/455 [==============================] - 0s 362us/sample - loss: 0.1150 - accuracy: 0.9495 - val_loss: 0.1091 - val_accuracy: 0.9561\n",
            "Epoch 35/50\n",
            "455/455 [==============================] - 0s 364us/sample - loss: 0.1292 - accuracy: 0.9560 - val_loss: 0.1077 - val_accuracy: 0.9561\n",
            "Epoch 36/50\n",
            "455/455 [==============================] - 0s 374us/sample - loss: 0.1530 - accuracy: 0.9473 - val_loss: 0.1077 - val_accuracy: 0.9561\n",
            "Epoch 37/50\n",
            "455/455 [==============================] - 0s 361us/sample - loss: 0.1163 - accuracy: 0.9495 - val_loss: 0.1087 - val_accuracy: 0.9561\n",
            "Epoch 38/50\n",
            "455/455 [==============================] - 0s 361us/sample - loss: 0.0980 - accuracy: 0.9626 - val_loss: 0.1088 - val_accuracy: 0.9561\n",
            "Epoch 39/50\n",
            "455/455 [==============================] - 0s 359us/sample - loss: 0.1018 - accuracy: 0.9582 - val_loss: 0.1081 - val_accuracy: 0.9561\n",
            "Epoch 40/50\n",
            "455/455 [==============================] - 0s 378us/sample - loss: 0.0764 - accuracy: 0.9714 - val_loss: 0.1075 - val_accuracy: 0.9561\n",
            "Epoch 41/50\n",
            "455/455 [==============================] - 0s 367us/sample - loss: 0.0891 - accuracy: 0.9714 - val_loss: 0.1073 - val_accuracy: 0.9561\n",
            "Epoch 42/50\n",
            "455/455 [==============================] - 0s 354us/sample - loss: 0.1206 - accuracy: 0.9560 - val_loss: 0.1070 - val_accuracy: 0.9561\n",
            "Epoch 43/50\n",
            "455/455 [==============================] - 0s 382us/sample - loss: 0.1308 - accuracy: 0.9604 - val_loss: 0.1059 - val_accuracy: 0.9649\n",
            "Epoch 44/50\n",
            "455/455 [==============================] - 0s 363us/sample - loss: 0.1369 - accuracy: 0.9451 - val_loss: 0.1054 - val_accuracy: 0.9649\n",
            "Epoch 45/50\n",
            "455/455 [==============================] - 0s 349us/sample - loss: 0.1013 - accuracy: 0.9648 - val_loss: 0.1050 - val_accuracy: 0.9649\n",
            "Epoch 46/50\n",
            "455/455 [==============================] - 0s 352us/sample - loss: 0.1155 - accuracy: 0.9670 - val_loss: 0.1054 - val_accuracy: 0.9649\n",
            "Epoch 47/50\n",
            "455/455 [==============================] - 0s 364us/sample - loss: 0.1009 - accuracy: 0.9626 - val_loss: 0.1053 - val_accuracy: 0.9649\n",
            "Epoch 48/50\n",
            "455/455 [==============================] - 0s 363us/sample - loss: 0.0817 - accuracy: 0.9714 - val_loss: 0.1053 - val_accuracy: 0.9649\n",
            "Epoch 49/50\n",
            "455/455 [==============================] - 0s 387us/sample - loss: 0.0910 - accuracy: 0.9626 - val_loss: 0.1061 - val_accuracy: 0.9649\n",
            "Epoch 50/50\n",
            "455/455 [==============================] - 0s 360us/sample - loss: 0.0947 - accuracy: 0.9560 - val_loss: 0.1064 - val_accuracy: 0.9649\n"
          ],
          "name": "stdout"
        }
      ]
    },
    {
      "cell_type": "code",
      "metadata": {
        "id": "zGGIa7CHDOaa",
        "colab_type": "code",
        "colab": {}
      },
      "source": [
        "def plot_learningCurve(history, epoch):\n",
        "  # Plot training & validation accuracy values\n",
        "  epoch_range = range(1, epoch+1)\n",
        "  plt.plot(epoch_range, history.history['accuracy'])\n",
        "  plt.plot(epoch_range, history.history['val_accuracy'])\n",
        "  plt.title('Model accuracy')\n",
        "  plt.ylabel('Accuracy')\n",
        "  plt.xlabel('Epoch')\n",
        "  plt.legend(['Train', 'Val'], loc='upper left')\n",
        "  plt.show()\n",
        "\n",
        "  # Plot training & validation loss values\n",
        "  plt.plot(epoch_range, history.history['loss'])\n",
        "  plt.plot(epoch_range, history.history['val_loss'])\n",
        "  plt.title('Model loss')\n",
        "  plt.ylabel('Loss')\n",
        "  plt.xlabel('Epoch')\n",
        "  plt.legend(['Train', 'Val'], loc='upper left')\n",
        "  plt.show()"
      ],
      "execution_count": 0,
      "outputs": []
    },
    {
      "cell_type": "code",
      "metadata": {
        "id": "6Hm07LYRDqEl",
        "colab_type": "code",
        "colab": {
          "base_uri": "https://localhost:8080/",
          "height": 1000
        },
        "outputId": "f38aa7e0-45cb-42f7-8d0f-252a9399e940"
      },
      "source": [
        "history.history"
      ],
      "execution_count": 23,
      "outputs": [
        {
          "output_type": "execute_result",
          "data": {
            "text/plain": [
              "{'accuracy': [0.5978022,\n",
              "  0.7076923,\n",
              "  0.778022,\n",
              "  0.83736265,\n",
              "  0.84395605,\n",
              "  0.8967033,\n",
              "  0.8813187,\n",
              "  0.8967033,\n",
              "  0.9010989,\n",
              "  0.8989011,\n",
              "  0.9252747,\n",
              "  0.9252747,\n",
              "  0.9230769,\n",
              "  0.9230769,\n",
              "  0.92747253,\n",
              "  0.95164835,\n",
              "  0.9164835,\n",
              "  0.94285715,\n",
              "  0.95604396,\n",
              "  0.9208791,\n",
              "  0.93406594,\n",
              "  0.94945055,\n",
              "  0.95604396,\n",
              "  0.95824176,\n",
              "  0.94945055,\n",
              "  0.94505495,\n",
              "  0.95384616,\n",
              "  0.9164835,\n",
              "  0.96043956,\n",
              "  0.95164835,\n",
              "  0.95824176,\n",
              "  0.95384616,\n",
              "  0.94725275,\n",
              "  0.94945055,\n",
              "  0.95604396,\n",
              "  0.94725275,\n",
              "  0.94945055,\n",
              "  0.96263736,\n",
              "  0.95824176,\n",
              "  0.9714286,\n",
              "  0.9714286,\n",
              "  0.95604396,\n",
              "  0.96043956,\n",
              "  0.94505495,\n",
              "  0.96483517,\n",
              "  0.96703297,\n",
              "  0.96263736,\n",
              "  0.9714286,\n",
              "  0.96263736,\n",
              "  0.95604396],\n",
              " 'loss': [0.908894722867798,\n",
              "  0.639652426819225,\n",
              "  0.5140419666583721,\n",
              "  0.4098317606108529,\n",
              "  0.33356553073767775,\n",
              "  0.24669877683723365,\n",
              "  0.30173867105782687,\n",
              "  0.25552380955317516,\n",
              "  0.22035852988342663,\n",
              "  0.2421943791620024,\n",
              "  0.18852658723736856,\n",
              "  0.1949828627345326,\n",
              "  0.21298525994950598,\n",
              "  0.1917063056931391,\n",
              "  0.18309534976443093,\n",
              "  0.15272430728425038,\n",
              "  0.2191222264339308,\n",
              "  0.13729907863742702,\n",
              "  0.14464249971148732,\n",
              "  0.19689243141111437,\n",
              "  0.16606748018945966,\n",
              "  0.1418986031642327,\n",
              "  0.13030828588365853,\n",
              "  0.11753211658407044,\n",
              "  0.16538584739952297,\n",
              "  0.12823115236811586,\n",
              "  0.151134849900564,\n",
              "  0.1788058659532568,\n",
              "  0.1283472957601259,\n",
              "  0.1220450549007772,\n",
              "  0.1339276797741979,\n",
              "  0.13131707736424036,\n",
              "  0.14591465119149657,\n",
              "  0.11504043137634193,\n",
              "  0.1292283187855731,\n",
              "  0.15302133966278245,\n",
              "  0.11628393098548219,\n",
              "  0.09795189103582404,\n",
              "  0.10178765959546461,\n",
              "  0.07637913415392676,\n",
              "  0.08910774552969487,\n",
              "  0.1205808516387101,\n",
              "  0.1307921158948115,\n",
              "  0.13689265506403459,\n",
              "  0.10133129933050701,\n",
              "  0.11554745011604749,\n",
              "  0.10089822218108635,\n",
              "  0.08173659791003217,\n",
              "  0.09097750203295069,\n",
              "  0.09470019455139454],\n",
              " 'val_accuracy': [0.81578946,\n",
              "  0.92105263,\n",
              "  0.9385965,\n",
              "  0.9385965,\n",
              "  0.9385965,\n",
              "  0.9385965,\n",
              "  0.9385965,\n",
              "  0.9385965,\n",
              "  0.9385965,\n",
              "  0.95614034,\n",
              "  0.95614034,\n",
              "  0.95614034,\n",
              "  0.95614034,\n",
              "  0.95614034,\n",
              "  0.95614034,\n",
              "  0.9649123,\n",
              "  0.95614034,\n",
              "  0.95614034,\n",
              "  0.95614034,\n",
              "  0.95614034,\n",
              "  0.94736844,\n",
              "  0.94736844,\n",
              "  0.94736844,\n",
              "  0.94736844,\n",
              "  0.94736844,\n",
              "  0.94736844,\n",
              "  0.94736844,\n",
              "  0.95614034,\n",
              "  0.95614034,\n",
              "  0.95614034,\n",
              "  0.95614034,\n",
              "  0.95614034,\n",
              "  0.95614034,\n",
              "  0.95614034,\n",
              "  0.95614034,\n",
              "  0.95614034,\n",
              "  0.95614034,\n",
              "  0.95614034,\n",
              "  0.95614034,\n",
              "  0.95614034,\n",
              "  0.95614034,\n",
              "  0.95614034,\n",
              "  0.9649123,\n",
              "  0.9649123,\n",
              "  0.9649123,\n",
              "  0.9649123,\n",
              "  0.9649123,\n",
              "  0.9649123,\n",
              "  0.9649123,\n",
              "  0.9649123],\n",
              " 'val_loss': [0.6447816951233044,\n",
              "  0.600994913201583,\n",
              "  0.5581118820006388,\n",
              "  0.5182147768505833,\n",
              "  0.48084778377884313,\n",
              "  0.44466125703694526,\n",
              "  0.41117472345368905,\n",
              "  0.38089518327462046,\n",
              "  0.3513297072628088,\n",
              "  0.3218570911047751,\n",
              "  0.29490417346619724,\n",
              "  0.2701634869240878,\n",
              "  0.2482181931273979,\n",
              "  0.22769203886651157,\n",
              "  0.21021008099380292,\n",
              "  0.19441312786779905,\n",
              "  0.18053371341604935,\n",
              "  0.1690522991774375,\n",
              "  0.15935045010165164,\n",
              "  0.1505426543585041,\n",
              "  0.14233625379570744,\n",
              "  0.13593614402047374,\n",
              "  0.13090415475399872,\n",
              "  0.12747079232021383,\n",
              "  0.12389185344963743,\n",
              "  0.12123441245210798,\n",
              "  0.11843198446328179,\n",
              "  0.11641900450514074,\n",
              "  0.11460494269665919,\n",
              "  0.11346822562055629,\n",
              "  0.11255279814072869,\n",
              "  0.11186603868478223,\n",
              "  0.11099151436958396,\n",
              "  0.10910426027942122,\n",
              "  0.10772283394870005,\n",
              "  0.10772863628440782,\n",
              "  0.10873124202746048,\n",
              "  0.10882868189691451,\n",
              "  0.1080982353080783,\n",
              "  0.10750793497355883,\n",
              "  0.10726034721326932,\n",
              "  0.10695045970772442,\n",
              "  0.1059216968551801,\n",
              "  0.1053500090840093,\n",
              "  0.10503054506619248,\n",
              "  0.1053608788112015,\n",
              "  0.10528428743086886,\n",
              "  0.1052692146612364,\n",
              "  0.10612151570814221,\n",
              "  0.10636160173044916]}"
            ]
          },
          "metadata": {
            "tags": []
          },
          "execution_count": 23
        }
      ]
    },
    {
      "cell_type": "code",
      "metadata": {
        "id": "qrtQIE9mDsIX",
        "colab_type": "code",
        "colab": {
          "base_uri": "https://localhost:8080/",
          "height": 573
        },
        "outputId": "7bf80c8d-16ed-4d13-90c8-569d3e232d8f"
      },
      "source": [
        "plot_learningCurve(history, epochs)"
      ],
      "execution_count": 24,
      "outputs": [
        {
          "output_type": "display_data",
          "data": {
            "image/png": "[encoded data removed]",
            "text/plain": [
              "<Figure size 432x288 with 1 Axes>"
            ]
          },
          "metadata": {
            "tags": []
          }
        },
        {
          "output_type": "display_data",
          "data": {
            "image/png": "[encoded data removed]",
            "text/plain": [
              "<Figure size 432x288 with 1 Axes>"
            ]
          },
          "metadata": {
            "tags": []
          }
        }
      ]
    },
    {
      "cell_type": "code",
      "metadata": {
        "id": "d7rim0xmDuJu",
        "colab_type": "code",
        "colab": {}
      },
      "source": [
        ""
      ],
      "execution_count": 0,
      "outputs": []
    }
  ]
}